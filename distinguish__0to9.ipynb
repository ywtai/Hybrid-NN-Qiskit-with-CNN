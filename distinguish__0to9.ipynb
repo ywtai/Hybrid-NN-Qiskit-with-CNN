{
 "cells": [
  {
   "cell_type": "code",
   "execution_count": 1,
   "metadata": {
    "id": "REq7AIJ2EUVQ"
   },
   "outputs": [],
   "source": [
    "import os\n",
    "\n",
    "os.environ['KMP_DUPLICATE_LIB_OK']='True'\n",
    "\n",
    "import numpy as np\n",
    "import matplotlib.pyplot as plt\n",
    "from tqdm import tqdm\n",
    "\n",
    "import torch\n",
    "from torch.autograd import Function\n",
    "from torchvision import datasets, models, transforms\n",
    "import torch.optim as optim\n",
    "import torch.nn as nn\n",
    "import torch.nn.functional as F\n",
    "\n",
    "import qiskit\n",
    "from qiskit.visualization import *\n",
    "\n",
    "%matplotlib inline\n",
    "# Importing standard Qiskit libraries and configuring account\n",
    "from qiskit import QuantumCircuit, execute, Aer, IBMQ\n",
    "from qiskit.compiler import transpile, assemble\n",
    "from qiskit.tools.jupyter import *\n",
    "from qiskit.visualization import *"
   ]
  },
  {
   "cell_type": "markdown",
   "metadata": {
    "id": "-YuQCl0NEXyZ"
   },
   "source": [
    "# Loading Dataset"
   ]
  },
  {
   "cell_type": "code",
   "execution_count": 2,
   "metadata": {
    "id": "6gQIR88tEW69"
   },
   "outputs": [],
   "source": [
    "n_samples = 1000\n",
    "X_train = datasets.MNIST(root='./data', train=True, download=True,\n",
    "                         transform=transforms.Compose([transforms.ToTensor()]))\n",
    "\n",
    "idx = []\n",
    " \n",
    "for i in range(10):\n",
    "    idx.extend(np.where(X_train.targets == i)[0][:n_samples])\n",
    "   \n",
    "X_train.data = X_train.data[idx]\n",
    "X_train.targets = X_train.targets[idx]\n",
    "\n",
    "train_loader = torch.utils.data.DataLoader(X_train, batch_size=1, shuffle=True)"
   ]
  },
  {
   "cell_type": "code",
   "execution_count": 3,
   "metadata": {
    "id": "2pG4fQCxFWK5"
   },
   "outputs": [],
   "source": [
    "n_samples = 200\n",
    "X_test = datasets.MNIST(root='./data', train=False, download=True,\n",
    "                        transform=transforms.Compose([transforms.ToTensor()]))\n",
    "\n",
    "idx = []\n",
    "\n",
    "for i in range(10):\n",
    "    idx.extend(np.where(X_test.targets == i)[0][:n_samples])\n",
    "   \n",
    "X_test.data = X_test.data[idx]\n",
    "X_test.targets = X_test.targets[idx]\n",
    "\n",
    "test_loader = torch.utils.data.DataLoader(X_test, batch_size=1, shuffle=True)"
   ]
  },
  {
   "cell_type": "markdown",
   "metadata": {
    "id": "92iF_2JBFF7-"
   },
   "source": [
    "## Show Data"
   ]
  },
  {
   "cell_type": "code",
   "execution_count": 4,
   "metadata": {
    "colab": {
     "base_uri": "https://localhost:8080/",
     "height": 130
    },
    "id": "G6rVl8k1FH8t",
    "outputId": "7d6efae1-5894-46bc-85b9-ee6ede696720"
   },
   "outputs": [
    {
     "data": {
      "image/png": "[encoded data removed]",
      "text/plain": [
       "<Figure size 720x216 with 6 Axes>"
      ]
     },
     "metadata": {},
     "output_type": "display_data"
    }
   ],
   "source": [
    "n_samples_show = 6\n",
    "\n",
    "data_iter = iter(train_loader)\n",
    "fig, axes = plt.subplots(nrows=1, ncols=n_samples_show, figsize=(10, 3))\n",
    "\n",
    "while n_samples_show > 0:\n",
    "    images, targets = data_iter.__next__()\n",
    "\n",
    "    axes[n_samples_show - 1].imshow(images[0].numpy().squeeze(), cmap='gray')\n",
    "    axes[n_samples_show - 1].set_xticks([])\n",
    "    axes[n_samples_show - 1].set_yticks([])\n",
    "    axes[n_samples_show - 1].set_title(\"Labeled: {}\".format(targets.item()))\n",
    "    \n",
    "    n_samples_show -= 1"
   ]
  },
  {
   "cell_type": "markdown",
   "metadata": {
    "id": "xMFQwt6hFc-g"
   },
   "source": [
    "# Setting Quantum Circuit and Hybrid Quantum-Classical Layer"
   ]
  },
  {
   "cell_type": "code",
   "execution_count": 5,
   "metadata": {
    "id": "ygTB0wcUFREq"
   },
   "outputs": [],
   "source": [
    "class QuantumCircuit:\n",
    "    \"\"\" \n",
    "    This class provides a simple interface for interaction \n",
    "    with the quantum circuit \n",
    "    \"\"\"\n",
    "    \n",
    "    def __init__(self, n_qubits, backend, shots):\n",
    "        # --- Circuit definition ---\n",
    "        self._circuit = qiskit.QuantumCircuit(n_qubits)\n",
    "        \n",
    "        all_qubits = [i for i in range(n_qubits)]\n",
    "        self.theta = qiskit.circuit.Parameter('theta')\n",
    "        \n",
    "        self._circuit.h(all_qubits)\n",
    "        self._circuit.barrier()\n",
    "        self._circuit.ry(self.theta, all_qubits)\n",
    "        \n",
    "        self._circuit.measure_all()\n",
    "        # ---------------------------\n",
    "\n",
    "        self.backend = backend\n",
    "        self.shots = shots\n",
    "    \n",
    "    def run(self, thetas):\n",
    "        job = qiskit.execute(self._circuit, \n",
    "                             self.backend, \n",
    "                             shots = self.shots,\n",
    "                             parameter_binds = [{self.theta: theta} for theta in thetas])\n",
    "        result = job.result().get_counts(self._circuit)\n",
    "        \n",
    "        counts = np.array(list(result.values()))\n",
    "        states = np.array(list(result.keys())).astype(float)\n",
    "        \n",
    "        # Compute probabilities for each state\n",
    "        probabilities = counts / self.shots\n",
    "        # Get state expectation\n",
    "        expectation = np.sum(states * probabilities)\n",
    "        \n",
    "        return np.array([expectation])"
   ]
  },
  {
   "cell_type": "code",
   "execution_count": 6,
   "metadata": {
    "id": "c604np0BFsR0"
   },
   "outputs": [],
   "source": [
    "class HybridFunction(Function):\n",
    "    \"\"\" Hybrid quantum - classical function definition \"\"\"\n",
    "    \n",
    "    @staticmethod\n",
    "    def forward(ctx, input, quantum_circuit, shift):\n",
    "        \"\"\" Forward pass computation \"\"\"\n",
    "        ctx.shift = shift\n",
    "        ctx.quantum_circuit = quantum_circuit\n",
    "\n",
    "        expectation_z = ctx.quantum_circuit.run(input[0].tolist())\n",
    "        result = torch.tensor([expectation_z])\n",
    "        ctx.save_for_backward(input, result)\n",
    "\n",
    "        return result\n",
    "        \n",
    "    @staticmethod\n",
    "    def backward(ctx, grad_output):\n",
    "        \"\"\" Backward pass computation \"\"\"\n",
    "        input, expectation_z = ctx.saved_tensors\n",
    "        input_list = np.array(input.tolist())\n",
    "        \n",
    "        shift_right = input_list + np.ones(input_list.shape) * ctx.shift\n",
    "        shift_left = input_list - np.ones(input_list.shape) * ctx.shift\n",
    "        \n",
    "        gradients = []\n",
    "        for i in range(len(input_list)):\n",
    "            expectation_right = ctx.quantum_circuit.run(shift_right[i])\n",
    "            expectation_left  = ctx.quantum_circuit.run(shift_left[i])\n",
    "            \n",
    "            gradient = torch.tensor([expectation_right]) - torch.tensor([expectation_left])\n",
    "            gradients.append(gradient)\n",
    "        gradients = np.array([gradients]).T\n",
    "        return torch.tensor([gradients]).float() * grad_output.float(), None, None\n",
    "\n",
    "class Hybrid(nn.Module):\n",
    "    \"\"\" Hybrid quantum - classical layer definition \"\"\"\n",
    "    \n",
    "    def __init__(self, backend, shots, shift):\n",
    "        super(Hybrid, self).__init__()\n",
    "        self.quantum_circuit = QuantumCircuit(1, backend, shots)\n",
    "        self.shift = shift\n",
    "        \n",
    "    def forward(self, input):\n",
    "        return HybridFunction.apply(input, self.quantum_circuit, self.shift)"
   ]
  },
  {
   "cell_type": "markdown",
   "metadata": {
    "id": "UZkiK8w3F16P"
   },
   "source": [
    "# Create Hybrid NN"
   ]
  },
  {
   "cell_type": "code",
   "execution_count": 7,
   "metadata": {
    "id": "7VO_OBXJFwLO"
   },
   "outputs": [],
   "source": [
    "class Net(nn.Module):\n",
    "    def __init__(self):\n",
    "        super(Net, self).__init__()\n",
    "        self.conv1 = nn.Conv2d(1, 6, kernel_size=5)\n",
    "        self.conv2 = nn.Conv2d(6, 16, kernel_size=5)\n",
    "        self.dropout = nn.Dropout2d()\n",
    "        self.fc1 = nn.Linear(256, 64)\n",
    "        self.fc2 = nn.Linear(64, 2)\n",
    "        self.hybrid1 = Hybrid(qiskit.Aer.get_backend('qasm_simulator'), 100, np.pi / 2)\n",
    "        self.hybrid2 = Hybrid(qiskit.Aer.get_backend('qasm_simulator'), 100, np.pi / 2)\n",
    "        self.fc3 = nn.Linear(2, 10)\n",
    "\n",
    "    def forward(self, x):\n",
    "        x = F.relu(self.conv1(x))\n",
    "        x = F.max_pool2d(x, 2)\n",
    "        x = F.relu(self.conv2(x))\n",
    "        x = F.max_pool2d(x, 2)\n",
    "        x = self.dropout(x)\n",
    "        x = x.view(1, -1)\n",
    "        x = F.relu(self.fc1(x))\n",
    "        x = self.fc2(x)\n",
    "        x1 = self.hybrid1(x[0][0].reshape(1,-1))\n",
    "        x2 = self.hybrid2(x[0][1].reshape(1,-1))\n",
    "        x = torch.cat((x1,x2),-1).float()\n",
    "        x = self.fc3(x)\n",
    "        return x"
   ]
  },
  {
   "cell_type": "markdown",
   "metadata": {
    "id": "rmYF0iU5GFaZ"
   },
   "source": [
    "# Train and Validation"
   ]
  },
  {
   "cell_type": "code",
   "execution_count": 8,
   "metadata": {
    "id": "2kydAIiKGDbf"
   },
   "outputs": [],
   "source": [
    "def train(model, opimizer, loss_func, train_loader):\n",
    "    model.train()\n",
    "\n",
    "    total_loss = []\n",
    "    for batch_idx, (data, target) in enumerate(train_loader):\n",
    "        optimizer.zero_grad()\n",
    "        # Forward pass\n",
    "        output = model(data)\n",
    "        # Calculating loss\n",
    "        loss = loss_func(output, target)\n",
    "        # Backward pass\n",
    "        loss.backward()\n",
    "        # Optimize the weights\n",
    "        optimizer.step()\n",
    "\n",
    "        total_loss.append(loss.item())\n",
    "    #loss_list.append(sum(total_loss)/len(total_loss))\n",
    "\n",
    "    return sum(total_loss)/len(total_loss)"
   ]
  },
  {
   "cell_type": "code",
   "execution_count": 9,
   "metadata": {
    "id": "SH5EbcWdGQgW"
   },
   "outputs": [],
   "source": [
    "def validation(model, test_loader):\n",
    "    model.eval()\n",
    "    with torch.no_grad():\n",
    "        total_loss = []\n",
    "        correct = 0\n",
    "        for batch_idx, (data, target) in enumerate(test_loader):\n",
    "            output = model(data)\n",
    "            pred = output.argmax(dim=1, keepdim=True) \n",
    "            correct += pred.eq(target.view_as(pred)).sum().item()\n",
    "            loss = loss_func(output, target)\n",
    "            total_loss.append(loss.item())\n",
    "    loss = sum(total_loss) / len(total_loss)\n",
    "    acc = correct / len(test_loader) * 100\n",
    "\n",
    "    return loss, acc"
   ]
  },
  {
   "cell_type": "markdown",
   "metadata": {
    "id": "wOorUm8_GUix"
   },
   "source": [
    "# Training Network"
   ]
  },
  {
   "cell_type": "code",
   "execution_count": 10,
   "metadata": {
    "id": "HL2iX5UGGT0-"
   },
   "outputs": [
    {
     "name": "stdout",
     "output_type": "stream",
     "text": [
      "Training [5%]\ttrain_Loss: 1.9162\ttest_acc: 39.8%\n",
      "Training [10%]\ttrain_Loss: 1.4343\ttest_acc: 54.0%\n",
      "Training [15%]\ttrain_Loss: 1.2325\ttest_acc: 62.0%\n",
      "Training [20%]\ttrain_Loss: 1.1013\ttest_acc: 68.8%\n",
      "Training [25%]\ttrain_Loss: 1.0067\ttest_acc: 72.8%\n",
      "Training [30%]\ttrain_Loss: 0.9246\ttest_acc: 74.6%\n",
      "Training [35%]\ttrain_Loss: 0.8702\ttest_acc: 77.0%\n",
      "Training [40%]\ttrain_Loss: 0.8273\ttest_acc: 74.5%\n",
      "Training [45%]\ttrain_Loss: 0.7940\ttest_acc: 82.2%\n",
      "Training [50%]\ttrain_Loss: 0.7588\ttest_acc: 80.9%\n",
      "Training [55%]\ttrain_Loss: 0.7264\ttest_acc: 81.4%\n",
      "Training [60%]\ttrain_Loss: 0.6776\ttest_acc: 84.3%\n",
      "Training [65%]\ttrain_Loss: 0.6424\ttest_acc: 78.5%\n",
      "Training [70%]\ttrain_Loss: 0.6155\ttest_acc: 84.7%\n",
      "Training [75%]\ttrain_Loss: 0.5846\ttest_acc: 86.2%\n",
      "Training [80%]\ttrain_Loss: 0.5664\ttest_acc: 84.0%\n",
      "Training [85%]\ttrain_Loss: 0.5433\ttest_acc: 86.1%\n",
      "Training [90%]\ttrain_Loss: 0.5349\ttest_acc: 87.2%\n",
      "Training [95%]\ttrain_Loss: 0.5162\ttest_acc: 82.7%\n",
      "Training [100%]\ttrain_Loss: 0.4943\ttest_acc: 87.1%\n"
     ]
    }
   ],
   "source": [
    "model = Net()\n",
    "optimizer = optim.Adam(model.parameters(), lr=0.001)\n",
    "loss_func = nn.CrossEntropyLoss()\n",
    "train_loss_list = []\n",
    "test_loss_list = []\n",
    "acc_list = []\n",
    "epochs = 20\n",
    "for epoch in range(epochs):\n",
    "    train_loss = train(model,optimizer,loss_func,train_loader)\n",
    "    train_loss_list.append(train_loss)\n",
    "    test_loss, acc = validation(model,test_loader)\n",
    "    acc_list.append(acc)\n",
    "    test_loss_list.append(test_loss) \n",
    "    print('Training [{:.0f}%]\\ttrain_Loss: {:.4f}\\ttest_acc: {:.1f}%'.format(\n",
    "        100. * (epoch + 1) / epochs, train_loss,acc))"
   ]
  },
  {
   "cell_type": "markdown",
   "metadata": {
    "id": "kbsD31GRGomU"
   },
   "source": [
    "# Plot Training Graph"
   ]
  },
  {
   "cell_type": "code",
   "execution_count": 11,
   "metadata": {
    "id": "FkhM7L0mGZUf"
   },
   "outputs": [
    {
     "data": {
      "text/plain": [
       "Text(0, 0.5, 'Neg Log Likelihood Loss')"
      ]
     },
     "execution_count": 11,
     "metadata": {},
     "output_type": "execute_result"
    },
    {
     "data": {
      "image/png": "[encoded data removed]",
      "text/plain": [
       "<Figure size 432x288 with 1 Axes>"
      ]
     },
     "metadata": {
      "needs_background": "light"
     },
     "output_type": "display_data"
    }
   ],
   "source": [
    "plt.plot(train_loss_list)\n",
    "plt.title('Hybrid NN Training Convergence')\n",
    "plt.xlabel('Training Iterations')\n",
    "plt.ylabel('Neg Log Likelihood Loss')"
   ]
  },
  {
   "cell_type": "markdown",
   "metadata": {
    "id": "FnSDsot_GsPD"
   },
   "source": [
    "# Sigmoid and Tanh"
   ]
  },
  {
   "cell_type": "code",
   "execution_count": 12,
   "metadata": {
    "id": "zYFTqC2GGzuJ"
   },
   "outputs": [],
   "source": [
    "class SNet(nn.Module):\n",
    "    def __init__(self):\n",
    "        super(SNet, self).__init__()\n",
    "        self.conv1 = nn.Conv2d(1, 6, kernel_size=5)\n",
    "        self.conv2 = nn.Conv2d(6, 16, kernel_size=5)\n",
    "        self.dropout = nn.Dropout2d()\n",
    "        self.fc1 = nn.Linear(256, 64)\n",
    "        self.fc2 = nn.Linear(64, 2)\n",
    "        self.hybrid1 = Hybrid(qiskit.Aer.get_backend('qasm_simulator'), 100, np.pi / 2)\n",
    "        self.hybrid2 = Hybrid(qiskit.Aer.get_backend('qasm_simulator'), 100, np.pi / 2)\n",
    "        self.fc3 = nn.Linear(2, 10)\n",
    "        self.sigmoid = nn.Sigmoid()\n",
    "\n",
    "    def forward(self, x):\n",
    "        x = F.relu(self.conv1(x))\n",
    "        x = F.max_pool2d(x, 2)\n",
    "        x = F.relu(self.conv2(x))\n",
    "        x = F.max_pool2d(x, 2)\n",
    "        x = self.dropout(x)\n",
    "        x = x.view(1, -1)\n",
    "        x = F.relu(self.fc1(x))\n",
    "        x = self.fc2(x)\n",
    "        x = self.sigmoid(x)\n",
    "        x = self.fc3(x)\n",
    "        return x"
   ]
  },
  {
   "cell_type": "code",
   "execution_count": 17,
   "metadata": {},
   "outputs": [],
   "source": [
    "class TNet(nn.Module):\n",
    "    def __init__(self):\n",
    "        super(TNet, self).__init__()\n",
    "        self.conv1 = nn.Conv2d(1, 6, kernel_size=5)\n",
    "        self.conv2 = nn.Conv2d(6, 16, kernel_size=5)\n",
    "        self.dropout = nn.Dropout2d()\n",
    "        self.fc1 = nn.Linear(256, 64)\n",
    "        self.fc2 = nn.Linear(64, 2)\n",
    "        self.hybrid1 = Hybrid(qiskit.Aer.get_backend('qasm_simulator'), 100, np.pi / 2)\n",
    "        self.hybrid2 = Hybrid(qiskit.Aer.get_backend('qasm_simulator'), 100, np.pi / 2)\n",
    "        self.fc3 = nn.Linear(2, 10)\n",
    "        self.tanh = nn.Tanh()\n",
    "\n",
    "    def forward(self, x):\n",
    "        x = F.relu(self.conv1(x))\n",
    "        x = F.max_pool2d(x, 2)\n",
    "        x = F.relu(self.conv2(x))\n",
    "        x = F.max_pool2d(x, 2)\n",
    "        x = self.dropout(x)\n",
    "        x = x.view(1, -1)\n",
    "        x = F.relu(self.fc1(x))\n",
    "        x = self.fc2(x)\n",
    "        x = self.tanh(x)\n",
    "        x = self.fc3(x)\n",
    "        return x"
   ]
  },
  {
   "cell_type": "code",
   "execution_count": 14,
   "metadata": {},
   "outputs": [
    {
     "name": "stdout",
     "output_type": "stream",
     "text": [
      "Training [5%]\ttrain_Loss: 1.7878\ttest_acc: 38.4%\n",
      "Training [10%]\ttrain_Loss: 1.4123\ttest_acc: 39.7%\n",
      "Training [15%]\ttrain_Loss: 1.3110\ttest_acc: 39.1%\n",
      "Training [20%]\ttrain_Loss: 1.2613\ttest_acc: 38.8%\n",
      "Training [25%]\ttrain_Loss: 1.2234\ttest_acc: 40.4%\n",
      "Training [30%]\ttrain_Loss: 1.1909\ttest_acc: 39.4%\n",
      "Training [35%]\ttrain_Loss: 1.1810\ttest_acc: 40.7%\n",
      "Training [40%]\ttrain_Loss: 1.1665\ttest_acc: 42.5%\n",
      "Training [45%]\ttrain_Loss: 1.1600\ttest_acc: 40.4%\n",
      "Training [50%]\ttrain_Loss: 1.1327\ttest_acc: 54.4%\n",
      "Training [55%]\ttrain_Loss: 1.0415\ttest_acc: 57.4%\n",
      "Training [60%]\ttrain_Loss: 0.9795\ttest_acc: 61.8%\n",
      "Training [65%]\ttrain_Loss: 0.9317\ttest_acc: 67.0%\n",
      "Training [70%]\ttrain_Loss: 0.8751\ttest_acc: 68.5%\n",
      "Training [75%]\ttrain_Loss: 0.8265\ttest_acc: 68.8%\n",
      "Training [80%]\ttrain_Loss: 0.7948\ttest_acc: 72.7%\n",
      "Training [85%]\ttrain_Loss: 0.7619\ttest_acc: 71.8%\n",
      "Training [90%]\ttrain_Loss: 0.7404\ttest_acc: 72.7%\n",
      "Training [95%]\ttrain_Loss: 0.7150\ttest_acc: 75.3%\n",
      "Training [100%]\ttrain_Loss: 0.6985\ttest_acc: 77.3%\n"
     ]
    }
   ],
   "source": [
    "model = SNet()\n",
    "optimizer = optim.Adam(model.parameters(), lr=0.001)\n",
    "loss_func = nn.CrossEntropyLoss()\n",
    "Strain_loss_list = []\n",
    "Stest_loss_list = []\n",
    "Sacc_list = []\n",
    "epochs = 20\n",
    "for epoch in range(epochs):\n",
    "    train_loss = train(model,optimizer,loss_func,train_loader)\n",
    "    Strain_loss_list.append(train_loss)\n",
    "    test_loss, acc = validation(model,test_loader)\n",
    "    Sacc_list.append(acc)\n",
    "    Stest_loss_list.append(test_loss) \n",
    "    print('Training [{:.0f}%]\\ttrain_Loss: {:.4f}\\ttest_acc: {:.1f}%'.format(\n",
    "        100. * (epoch + 1) / epochs, train_loss,acc))"
   ]
  },
  {
   "cell_type": "code",
   "execution_count": 15,
   "metadata": {},
   "outputs": [
    {
     "data": {
      "text/plain": [
       "Text(0, 0.5, 'Loss')"
      ]
     },
     "execution_count": 15,
     "metadata": {},
     "output_type": "execute_result"
    },
    {
     "data": {
      "image/png": "[encoded data removed]",
      "text/plain": [
       "<Figure size 432x288 with 1 Axes>"
      ]
     },
     "metadata": {
      "needs_background": "light"
     },
     "output_type": "display_data"
    }
   ],
   "source": [
    "plt.plot(Stest_loss_list)\n",
    "plt.title('SNN Testing Loss')\n",
    "plt.xlabel('Training Iterations')\n",
    "plt.ylabel('Loss')"
   ]
  },
  {
   "cell_type": "code",
   "execution_count": 18,
   "metadata": {},
   "outputs": [
    {
     "name": "stdout",
     "output_type": "stream",
     "text": [
      "Training [5%]\ttrain_Loss: 1.6756\ttest_acc: 39.5%\n",
      "Training [10%]\ttrain_Loss: 1.3314\ttest_acc: 40.6%\n",
      "Training [15%]\ttrain_Loss: 1.2651\ttest_acc: 41.1%\n",
      "Training [20%]\ttrain_Loss: 1.2462\ttest_acc: 48.1%\n",
      "Training [25%]\ttrain_Loss: 1.1523\ttest_acc: 63.5%\n",
      "Training [30%]\ttrain_Loss: 1.0656\ttest_acc: 58.1%\n",
      "Training [35%]\ttrain_Loss: 1.0154\ttest_acc: 62.5%\n",
      "Training [40%]\ttrain_Loss: 0.9665\ttest_acc: 75.2%\n",
      "Training [45%]\ttrain_Loss: 0.9032\ttest_acc: 80.6%\n",
      "Training [50%]\ttrain_Loss: 0.8261\ttest_acc: 80.7%\n",
      "Training [55%]\ttrain_Loss: 0.7331\ttest_acc: 80.3%\n",
      "Training [60%]\ttrain_Loss: 0.6572\ttest_acc: 83.9%\n",
      "Training [65%]\ttrain_Loss: 0.6015\ttest_acc: 82.7%\n",
      "Training [70%]\ttrain_Loss: 0.5757\ttest_acc: 83.7%\n",
      "Training [75%]\ttrain_Loss: 0.5546\ttest_acc: 84.2%\n",
      "Training [80%]\ttrain_Loss: 0.5437\ttest_acc: 85.5%\n",
      "Training [85%]\ttrain_Loss: 0.5471\ttest_acc: 84.8%\n",
      "Training [90%]\ttrain_Loss: 0.5342\ttest_acc: 84.2%\n",
      "Training [95%]\ttrain_Loss: 0.5112\ttest_acc: 84.1%\n",
      "Training [100%]\ttrain_Loss: 0.5159\ttest_acc: 84.0%\n"
     ]
    }
   ],
   "source": [
    "model = TNet()\n",
    "optimizer = optim.Adam(model.parameters(), lr=0.001)\n",
    "loss_func = nn.CrossEntropyLoss()\n",
    "Ttrain_loss_list = []\n",
    "Ttest_loss_list = []\n",
    "Tacc_list = []\n",
    "epochs = 20\n",
    "for epoch in range(epochs):\n",
    "    train_loss = train(model,optimizer,loss_func,train_loader)\n",
    "    Ttrain_loss_list.append(train_loss)\n",
    "    test_loss, acc = validation(model,test_loader)\n",
    "    Tacc_list.append(acc)\n",
    "    Ttest_loss_list.append(test_loss) \n",
    "    print('Training [{:.0f}%]\\ttrain_Loss: {:.4f}\\ttest_acc: {:.1f}%'.format(\n",
    "        100. * (epoch + 1) / epochs, train_loss,acc))"
   ]
  },
  {
   "cell_type": "code",
   "execution_count": 19,
   "metadata": {},
   "outputs": [
    {
     "data": {
      "text/plain": [
       "Text(0, 0.5, 'Loss')"
      ]
     },
     "execution_count": 19,
     "metadata": {},
     "output_type": "execute_result"
    },
    {
     "data": {
      "image/png": "[encoded data removed]",
      "text/plain": [
       "<Figure size 432x288 with 1 Axes>"
      ]
     },
     "metadata": {
      "needs_background": "light"
     },
     "output_type": "display_data"
    }
   ],
   "source": [
    "plt.plot(Ttest_loss_list)\n",
    "plt.title('TNN Testing Loss')\n",
    "plt.xlabel('Training Iterations')\n",
    "plt.ylabel('Loss')"
   ]
  },
  {
   "cell_type": "code",
   "execution_count": 20,
   "metadata": {},
   "outputs": [
    {
     "data": {
      "text/plain": [
       "Text(0, 0.5, 'Loss')"
      ]
     },
     "execution_count": 20,
     "metadata": {},
     "output_type": "execute_result"
    },
    {
     "data": {
      "image/png": "[encoded data removed]",
      "text/plain": [
       "<Figure size 432x288 with 1 Axes>"
      ]
     },
     "metadata": {
      "needs_background": "light"
     },
     "output_type": "display_data"
    }
   ],
   "source": [
    "plt.plot(test_loss_list, label='Hybrid NN')\n",
    "plt.plot(Stest_loss_list, label='Sigmoid')\n",
    "plt.plot(Ttest_loss_list, label='Tanh')\n",
    "plt.legend()\n",
    "plt.title('NN Testing Loss')\n",
    "plt.xlabel('Training Iterations')\n",
    "plt.ylabel('Loss')"
   ]
  },
  {
   "cell_type": "code",
   "execution_count": 21,
   "metadata": {},
   "outputs": [
    {
     "data": {
      "text/plain": [
       "Text(0, 0.5, 'Accuracy')"
      ]
     },
     "execution_count": 21,
     "metadata": {},
     "output_type": "execute_result"
    },
    {
     "data": {
      "image/png": "[encoded data removed]",
      "text/plain": [
       "<Figure size 432x288 with 1 Axes>"
      ]
     },
     "metadata": {
      "needs_background": "light"
     },
     "output_type": "display_data"
    }
   ],
   "source": [
    "plt.plot(acc_list, label='Hybrid NN')\n",
    "plt.plot(Sacc_list, label='Sigmoid')\n",
    "plt.plot(Tacc_list, label='Tanh')\n",
    "plt.legend()\n",
    "plt.title('Testing Accuracy')\n",
    "plt.xlabel('Training Iterations')\n",
    "plt.ylabel('Accuracy')"
   ]
  },
  {
   "cell_type": "code",
   "execution_count": 24,
   "metadata": {},
   "outputs": [
    {
     "name": "stdout",
     "output_type": "stream",
     "text": [
      "torch.Size([1, 28, 28])\n"
     ]
    }
   ],
   "source": [
    "print(X_train[0][0].size())"
   ]
  },
  {
   "cell_type": "code",
   "execution_count": null,
   "metadata": {},
   "outputs": [],
   "source": []
  }
 ],
 "metadata": {
  "accelerator": "GPU",
  "colab": {
   "collapsed_sections": [],
   "name": "distinguish_ 0to9.ipynb",
   "provenance": []
  },
  "kernelspec": {
   "display_name": "Python 3",
   "language": "python",
   "name": "python3"
  },
  "language_info": {
   "codemirror_mode": {
    "name": "ipython",
    "version": 3
   },
   "file_extension": ".py",
   "mimetype": "text/x-python",
   "name": "python",
   "nbconvert_exporter": "python",
   "pygments_lexer": "ipython3",
   "version": "3.7.9"
  }
 },
 "nbformat": 4,
 "nbformat_minor": 1
}
